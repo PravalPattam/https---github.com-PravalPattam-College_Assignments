{
 "cells": [
  {
   "cell_type": "code",
   "execution_count": 23,
   "metadata": {},
   "outputs": [
    {
     "data": {
      "text/plain": [
       "(array([[ 0.26270437,  1.57866975,  0.05380273],\n",
       "        [ 0.53323702, -0.35146792,  0.31473997],\n",
       "        [-1.20289969,  0.34484567,  1.4344036 ]]),\n",
       " array([[-0.15160629, -2.17539215, -1.06294306],\n",
       "        [ 0.06411676,  1.42323071, -0.56582343],\n",
       "        [ 0.73780861, -1.25151014, -0.96975889]]))"
      ]
     },
     "execution_count": 23,
     "metadata": {},
     "output_type": "execute_result"
    }
   ],
   "source": [
    "import numpy as np\n",
    "\n",
    "a = np.random.randn(3, 3)\n",
    "b = np.random.randn(3, 3)\n",
    "a, b"
   ]
  },
  {
   "cell_type": "code",
   "execution_count": 24,
   "metadata": {},
   "outputs": [
    {
     "name": "stdout",
     "output_type": "stream",
     "text": [
      "\n",
      "Their sum\n",
      "[[ 0.11109808 -0.5967224  -1.00914033]\n",
      " [ 0.59735378  1.0717628  -0.25108346]\n",
      " [-0.46509108 -0.90666447  0.46464472]]\n",
      "Is it correct?\n",
      "[[ True  True  True]\n",
      " [ True  True  True]\n",
      " [ True  True  True]]\n"
     ]
    }
   ],
   "source": [
    "# matrix addition\n",
    "c = []\n",
    "for i in range(3):\n",
    "    l = []\n",
    "    for j in range(3):\n",
    "        l.append(a[i][j] + b[i][j])\n",
    "    c.append(l)\n",
    "c = np.array(c)\n",
    "print(\"\\nTheir sum\")\n",
    "print(c)\n",
    "print(\"Is it correct?\")\n",
    "print(a + b == c)\n",
    "assert np.array_equal(a + b, c)"
   ]
  },
  {
   "cell_type": "code",
   "execution_count": 25,
   "metadata": {},
   "outputs": [
    {
     "name": "stdout",
     "output_type": "stream",
     "text": [
      "\n",
      "Their difference\n",
      "[[ 0.41431066  3.7540619   1.1167458 ]\n",
      " [ 0.46912027 -1.77469863  0.8805634 ]\n",
      " [-1.9407083   1.5963558   2.40416249]]\n",
      "Is it correct?\n",
      "[[ True  True  True]\n",
      " [ True  True  True]\n",
      " [ True  True  True]]\n"
     ]
    }
   ],
   "source": [
    "# matrix subtraction\n",
    "c = []\n",
    "for i in range(3):\n",
    "    l = []\n",
    "    for j in range(3):\n",
    "        l.append(a[i][j] - b[i][j])\n",
    "    c.append(l)\n",
    "c = np.array(c)\n",
    "print(\"\\nTheir difference\")\n",
    "print(c)\n",
    "print(\"Is it correct?\")\n",
    "print(a - b == c)\n",
    "assert np.array_equal(a - b, c)"
   ]
  },
  {
   "cell_type": "code",
   "execution_count": 26,
   "metadata": {},
   "outputs": [
    {
     "name": "stdout",
     "output_type": "stream",
     "text": [
      "(3, 3)\n",
      "[[False False  True]\n",
      " [ True  True  True]\n",
      " [False  True  True]]\n",
      "[[ 0.10108767  1.60799158 -1.2246638 ]\n",
      " [ 0.12884079 -2.05411983 -0.67315369]\n",
      " [ 1.26279287  1.31240284 -0.30753351]]\n",
      "[[ 0.10108767  1.60799158 -1.2246638 ]\n",
      " [ 0.12884079 -2.05411983 -0.67315369]\n",
      " [ 1.26279287  1.31240284 -0.30753351]]\n"
     ]
    }
   ],
   "source": [
    "# matrix multiplication\n",
    "c = [[0, 0, 0], [0, 0, 0], [0, 0, 0]]\n",
    "for i in range(len(a)):\n",
    "    l = []\n",
    "    for j in range(len(b[0])):\n",
    "        # l.append(a[i][j] + b[i][j])\n",
    "        for k in range(len(b)):\n",
    "                # l.append(a[i][k] * b[k][j])\n",
    "                c[i][j] += a[i][k] * b[k][j]\n",
    "c = np.array(c)\n",
    "print(c.shape)\n",
    "print(c == a@b)\n",
    "print(a@b)\n",
    "print(c)"
   ]
  },
  {
   "cell_type": "code",
   "execution_count": 27,
   "metadata": {},
   "outputs": [
    {
     "name": "stdout",
     "output_type": "stream",
     "text": [
      "[[ True  True  True]\n",
      " [ True  True  True]\n",
      " [ True  True  True]]\n"
     ]
    }
   ],
   "source": [
    "# matrix transpose\n",
    "def transpose(a):\n",
    "    a_t = [[0, 0, 0], [0, 0, 0], [0, 0, 0]]\n",
    "    for i in range(3):\n",
    "        for j in range(3):\n",
    "            a_t[j][i] = a[i][j]\n",
    "    return np.array(a_t)\n",
    "\n",
    "print(transpose(a) == a.T)\n",
    "assert np.array_equal(transpose(a), a.T)"
   ]
  },
  {
   "cell_type": "code",
   "execution_count": 28,
   "metadata": {},
   "outputs": [
    {
     "name": "stdout",
     "output_type": "stream",
     "text": [
      "[[ 0.30959538  1.13487459 -0.2606292 ]\n",
      " [ 0.57781119 -0.22311647  0.02728371]\n",
      " [ 0.12071672  1.00535236  0.47202931]]\n",
      "[[ 0.30959538  1.13487459 -0.2606292 ]\n",
      " [ 0.57781119 -0.22311647  0.02728371]\n",
      " [ 0.12071672  1.00535236  0.47202931]]\n",
      "[[ True False  True]\n",
      " [ True False  True]\n",
      " [False  True False]]\n"
     ]
    }
   ],
   "source": [
    "# matrix inversion\n",
    "def inversion(m):    \n",
    "    m1, m2, m3, m4, m5, m6, m7, m8, m9 = m.flatten()\n",
    "    determinant = m1*m5*m9 + m4*m8*m3 + m7*m2*m6 - m1*m6*m8 - m3*m5*m7 - m2*m4*m9  \n",
    "    return np.array([[m5*m9-m6*m8, m3*m8-m2*m9, m2*m6-m3*m5],\n",
    "                     [m6*m7-m4*m9, m1*m9-m3*m7, m3*m4-m1*m6],\n",
    "                     [m4*m8-m5*m7, m2*m7-m1*m8, m1*m5-m2*m4]])/determinant\n",
    "\n",
    "print(inversion(a))\n",
    "print(np.linalg.inv(a))\n",
    "print(inversion(a) == np.linalg.inv(a))"
   ]
  },
  {
   "cell_type": "code",
   "execution_count": 29,
   "metadata": {},
   "outputs": [
    {
     "name": "stdout",
     "output_type": "stream",
     "text": [
      "1.5786697517156865\n",
      "True\n",
      "-1.2028996921022364\n",
      "True\n"
     ]
    }
   ],
   "source": [
    "# max element and minimum element\n",
    "min_elem = 10000000000\n",
    "max_elem = -1000000000\n",
    "for r in a:\n",
    "    for i in r:\n",
    "        min_elem = min(min_elem, i)\n",
    "        max_elem = max(max_elem, i)\n",
    "\n",
    "print(max_elem)\n",
    "print(max_elem == np.amax(a))\n",
    "print(min_elem)\n",
    "print(min_elem == np.amin(a))"
   ]
  },
  {
   "cell_type": "code",
   "execution_count": 30,
   "metadata": {},
   "outputs": [
    {
     "name": "stdout",
     "output_type": "stream",
     "text": [
      "The max elem in row [0.26270437 1.57866975 0.05380273] is 0.26270437255449675\n",
      "The min elem in row [0.26270437 1.57866975 0.05380273] is 0.26270437255449675\n",
      "\n",
      "The max elem in row [0.26270437 1.57866975 0.05380273] is 1.5786697517156865\n",
      "The min elem in row [0.26270437 1.57866975 0.05380273] is 0.26270437255449675\n",
      "\n",
      "The max elem in row [0.26270437 1.57866975 0.05380273] is 1.5786697517156865\n",
      "The min elem in row [0.26270437 1.57866975 0.05380273] is 0.053802734461147785\n",
      "\n",
      "The max elem in row [ 0.53323702 -0.35146792  0.31473997] is 0.533237024938788\n",
      "The min elem in row [ 0.53323702 -0.35146792  0.31473997] is 0.533237024938788\n",
      "\n",
      "The max elem in row [ 0.53323702 -0.35146792  0.31473997] is 0.533237024938788\n",
      "The min elem in row [ 0.53323702 -0.35146792  0.31473997] is -0.3514679174226191\n",
      "\n",
      "The max elem in row [ 0.53323702 -0.35146792  0.31473997] is 0.533237024938788\n",
      "The min elem in row [ 0.53323702 -0.35146792  0.31473997] is -0.3514679174226191\n",
      "\n",
      "The max elem in row [-1.20289969  0.34484567  1.4344036 ] is -1.2028996921022364\n",
      "The min elem in row [-1.20289969  0.34484567  1.4344036 ] is -1.2028996921022364\n",
      "\n",
      "The max elem in row [-1.20289969  0.34484567  1.4344036 ] is 0.34484566673729433\n",
      "The min elem in row [-1.20289969  0.34484567  1.4344036 ] is -1.2028996921022364\n",
      "\n",
      "The max elem in row [-1.20289969  0.34484567  1.4344036 ] is 1.4344036020197615\n",
      "The min elem in row [-1.20289969  0.34484567  1.4344036 ] is -1.2028996921022364\n",
      "\n"
     ]
    }
   ],
   "source": [
    "# max element and minimum element in every row\n",
    "# min_elem = 10000000000\n",
    "# max_elem = -1000000000\n",
    "for r in a:\n",
    "    min_elem = 10000000000\n",
    "    max_elem = -1000000000\n",
    "    for i in r:\n",
    "        min_elem = min(min_elem, i)\n",
    "        max_elem = max(max_elem, i)\n",
    "        print(\"The max elem in row\", r, \"is\", max_elem)\n",
    "        print(\"The min elem in row\", r, \"is\", min_elem)\n",
    "        print(\"\")"
   ]
  },
  {
   "cell_type": "code",
   "execution_count": 31,
   "metadata": {},
   "outputs": [
    {
     "name": "stdout",
     "output_type": "stream",
     "text": [
      "The max elem in col [ 0.26270437  0.53323702 -1.20289969] is 0.26270437255449675\n",
      "The min elem in col [ 0.26270437  0.53323702 -1.20289969] is 0.26270437255449675\n",
      "\n",
      "The max elem in col [ 0.26270437  0.53323702 -1.20289969] is 0.533237024938788\n",
      "The min elem in col [ 0.26270437  0.53323702 -1.20289969] is 0.26270437255449675\n",
      "\n",
      "The max elem in col [ 0.26270437  0.53323702 -1.20289969] is 0.533237024938788\n",
      "The min elem in col [ 0.26270437  0.53323702 -1.20289969] is -1.2028996921022364\n",
      "\n",
      "The max elem in col [ 1.57866975 -0.35146792  0.34484567] is 1.5786697517156865\n",
      "The min elem in col [ 1.57866975 -0.35146792  0.34484567] is 1.5786697517156865\n",
      "\n",
      "The max elem in col [ 1.57866975 -0.35146792  0.34484567] is 1.5786697517156865\n",
      "The min elem in col [ 1.57866975 -0.35146792  0.34484567] is -0.3514679174226191\n",
      "\n",
      "The max elem in col [ 1.57866975 -0.35146792  0.34484567] is 1.5786697517156865\n",
      "The min elem in col [ 1.57866975 -0.35146792  0.34484567] is -0.3514679174226191\n",
      "\n",
      "The max elem in col [0.05380273 0.31473997 1.4344036 ] is 0.053802734461147785\n",
      "The min elem in col [0.05380273 0.31473997 1.4344036 ] is 0.053802734461147785\n",
      "\n",
      "The max elem in col [0.05380273 0.31473997 1.4344036 ] is 0.3147399673112526\n",
      "The min elem in col [0.05380273 0.31473997 1.4344036 ] is 0.053802734461147785\n",
      "\n",
      "The max elem in col [0.05380273 0.31473997 1.4344036 ] is 1.4344036020197615\n",
      "The min elem in col [0.05380273 0.31473997 1.4344036 ] is 0.053802734461147785\n",
      "\n"
     ]
    }
   ],
   "source": [
    "# max and min element in every coloumn \n",
    "temp = transpose(a)\n",
    "for r in temp:\n",
    "    min_elem = 10000000000\n",
    "    max_elem = -1000000000\n",
    "    for i in r:\n",
    "        min_elem = min(min_elem, i)\n",
    "        max_elem = max(max_elem, i)\n",
    "        print(\"The max elem in col\", r, \"is\", max_elem)\n",
    "        print(\"The min elem in col\", r, \"is\", min_elem)\n",
    "        print(\"\")"
   ]
  },
  {
   "cell_type": "code",
   "execution_count": 32,
   "metadata": {},
   "outputs": [
    {
     "name": "stdout",
     "output_type": "stream",
     "text": [
      "1.3456400571516391\n",
      "True\n"
     ]
    }
   ],
   "source": [
    "# trace of a matrix\n",
    "trace = 0\n",
    "for i in range(len(a)):\n",
    "    for j in range(len(b)):\n",
    "        if i == j:\n",
    "            trace += a[i][j]\n",
    "print(trace)\n",
    "print(trace == np.trace(a))"
   ]
  },
  {
   "cell_type": "code",
   "execution_count": 33,
   "metadata": {},
   "outputs": [
    {
     "name": "stdout",
     "output_type": "stream",
     "text": [
      "3\n"
     ]
    }
   ],
   "source": [
    "# rank of a matrix\n",
    "print(np.linalg.matrix_rank(a))"
   ]
  },
  {
   "cell_type": "code",
   "execution_count": 34,
   "metadata": {},
   "outputs": [
    {
     "name": "stdout",
     "output_type": "stream",
     "text": [
      "EigResult(eigenvalues=array([ 1.24355786+0.43274523j,  1.24355786-0.43274523j,\n",
      "       -1.14147567+0.j        ]), eigenvectors=array([[-0.19315071+0.36411988j, -0.19315071-0.36411988j,\n",
      "        -0.67823788+0.j        ],\n",
      "       [-0.19003166+0.17328717j, -0.19003166-0.17328717j,\n",
      "         0.61688153+0.j        ],\n",
      "       [-0.87405323+0.j        , -0.87405323-0.j        ,\n",
      "        -0.39931261+0.j        ]]))\n"
     ]
    }
   ],
   "source": [
    "# eigen values and vectors\n",
    "print(np.linalg.eig(a))"
   ]
  },
  {
   "cell_type": "code",
   "execution_count": 35,
   "metadata": {},
   "outputs": [
    {
     "name": "stdout",
     "output_type": "stream",
     "text": [
      "2.9680355102135714\n",
      "Mean = 0.32978172335706346\n",
      "True\n"
     ]
    }
   ],
   "source": [
    "# mean\n",
    "l = a.flatten()\n",
    "sum = l.sum()\n",
    "print(sum)\n",
    "count = len(l)\n",
    "print(\"Mean =\", sum / count)\n",
    "print(sum / count == l.mean())"
   ]
  },
  {
   "cell_type": "code",
   "execution_count": 36,
   "metadata": {},
   "outputs": [
    {
     "name": "stdout",
     "output_type": "stream",
     "text": [
      "0.3147399673112526\n",
      "True\n"
     ]
    }
   ],
   "source": [
    "# median\n",
    "l = a.flatten()\n",
    "l.sort()\n",
    "\n",
    "if len(l) % 2 == 0:\n",
    "    m1 = l[len(l) // 2]\n",
    "    m2 = l[len(l) // 2 - 1]\n",
    "    median = (m1 + m2) / 2\n",
    "else:\n",
    "    median = l[len(l) // 2]\n",
    "print(median)\n",
    "print(median == np.median(a))"
   ]
  },
  {
   "cell_type": "code",
   "execution_count": 37,
   "metadata": {},
   "outputs": [
    {
     "name": "stdout",
     "output_type": "stream",
     "text": [
      "1.4344036020197615\n"
     ]
    }
   ],
   "source": [
    "# Mode\n",
    "l = a.flatten()\n",
    "frequency = {}\n",
    "for i in l:\n",
    "    frequency.setdefault(i, 0)\n",
    "    frequency[i] += 1\n",
    "\n",
    "frequent = max(frequency.values())\n",
    "for i, j in frequency.items():\n",
    "    if j == frequent:\n",
    "        mode = i\n",
    "print(mode)"
   ]
  },
  {
   "cell_type": "code",
   "execution_count": 38,
   "metadata": {},
   "outputs": [
    {
     "name": "stdout",
     "output_type": "stream",
     "text": [
      "0.7969131561785474\n",
      "0.7969131561785474\n",
      "True\n"
     ]
    }
   ],
   "source": [
    "import math\n",
    "\n",
    "def mean_of_list(l):\n",
    "   sum = 0\n",
    "   for i in range(len(l)):\n",
    "      sum += l[i]\n",
    "   return sum / len(l)\n",
    "\n",
    "l = a.flatten()\n",
    "mean = mean_of_list(l)\n",
    "deviation_sum = 0\n",
    "for i in range(len(l)):\n",
    "   deviation_sum += (l[i] - mean) ** 2\n",
    "\n",
    "sd = math.sqrt((deviation_sum) / len(l))\n",
    "print(sd)\n",
    "print(np.std(l))\n",
    "print(sd == np.std(l))"
   ]
  },
  {
   "cell_type": "code",
   "execution_count": 48,
   "metadata": {},
   "outputs": [
    {
     "name": "stdout",
     "output_type": "stream",
     "text": [
      "[[6, 3, 6], [6, 7, 2], [6, 1, 7]]\n",
      "[[-1.95833333  0.625       1.5       ]\n",
      " [ 1.25       -0.25       -1.        ]\n",
      " [ 1.5        -0.5        -1.        ]]\n"
     ]
    }
   ],
   "source": [
    "# matrix inversion using gauss jordan method\n",
    "n = 3\n",
    "A = [[np.random.randint(1, 10) for i in range(n)] for j in range(n)]\n",
    "print(A)\n",
    "A_i = np.linalg.inv(A)\n",
    "print(A_i)"
   ]
  },
  {
   "cell_type": "code",
   "execution_count": 49,
   "metadata": {},
   "outputs": [
    {
     "name": "stdout",
     "output_type": "stream",
     "text": [
      "[[1. 0. 0.]\n",
      " [0. 1. 0.]\n",
      " [0. 0. 1.]]\n"
     ]
    }
   ],
   "source": [
    "# This should return eye matrix\n",
    "print(A_i@A)"
   ]
  },
  {
   "cell_type": "code",
   "execution_count": 57,
   "metadata": {},
   "outputs": [
    {
     "name": "stdout",
     "output_type": "stream",
     "text": [
      "[[5 9 9 6 2]\n",
      " [2 6 6 8 5]\n",
      " [6 3 2 3 2]\n",
      " [9 1 4 3 7]\n",
      " [4 5 5 7 3]]\n",
      "\n",
      "2 \n",
      "6 3 \n",
      "9 1 4 \n",
      "4 5 5 7 \n"
     ]
    }
   ],
   "source": [
    "# Let's try to write this on our own\n",
    "n = 5\n",
    "A = [[np.random.randint(1, 10) for i in range(n)] for j in range(n)]\n",
    "A = np.array(A)\n",
    "print(A)\n",
    "for i in range(len(A)):\n",
    "    for j in range(len(A)):\n",
    "        if j < i:\n",
    "            print(A[i][j], end=\" \")\n",
    "    print(\"\")"
   ]
  }
 ],
 "metadata": {
  "kernelspec": {
   "display_name": ".venv",
   "language": "python",
   "name": "python3"
  },
  "language_info": {
   "codemirror_mode": {
    "name": "ipython",
    "version": 3
   },
   "file_extension": ".py",
   "mimetype": "text/x-python",
   "name": "python",
   "nbconvert_exporter": "python",
   "pygments_lexer": "ipython3",
   "version": "3.10.11"
  }
 },
 "nbformat": 4,
 "nbformat_minor": 2
}
