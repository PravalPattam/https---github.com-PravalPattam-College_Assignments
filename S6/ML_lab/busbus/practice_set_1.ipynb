{
 "cells": [
  {
   "cell_type": "code",
   "execution_count": 1,
   "metadata": {},
   "outputs": [
    {
     "name": "stdout",
     "output_type": "stream",
     "text": [
      "The max number is 3\n"
     ]
    }
   ],
   "source": [
    "# 1) program to find the largest of three numbers\n",
    "a, b, c = input(\"Enter 3 Numbers\").split(' ')\n",
    "if a > b:\n",
    "    if a > c:\n",
    "        max = a\n",
    "    else:\n",
    "        max = c\n",
    "else:\n",
    "    if b > c:\n",
    "        max = b\n",
    "    else:\n",
    "        max = c\n",
    "print(\"The max number is\", max)"
   ]
  },
  {
   "cell_type": "code",
   "execution_count": 2,
   "metadata": {},
   "outputs": [
    {
     "name": "stdout",
     "output_type": "stream",
     "text": [
      "The number of vowels is 7\n"
     ]
    }
   ],
   "source": [
    "# 2) counting the number of vowels in a given string\n",
    "s = input(\"Enter a string\")\n",
    "l = list(s)\n",
    "count = 0\n",
    "for a in l:\n",
    "    if a == 'a' or a == 'e' or a == 'i' or  a == 'o' or a == 'u':\n",
    "        count += 1\n",
    "print(\"The number of vowels is\", count)"
   ]
  },
  {
   "cell_type": "code",
   "execution_count": 3,
   "metadata": {},
   "outputs": [
    {
     "name": "stdout",
     "output_type": "stream",
     "text": [
      "The Factorial of the number is 6\n"
     ]
    }
   ],
   "source": [
    "# 3) calculate the factorial of a number\n",
    "num = input(\"Give me a whole number\")\n",
    "while int(num) < 0:\n",
    "    print(\"This is not a whole number\")\n",
    "    num = input(\"Give me a whole number\")\n",
    "num = int(num)\n",
    "l = [1, 1]\n",
    "for i in range(num + 1):\n",
    "    if i > 1:\n",
    "        l.append((i) * l[i - 1])\n",
    "print(\"The Factorial of the number is\", l[-1])"
   ]
  },
  {
   "cell_type": "code",
   "execution_count": 4,
   "metadata": {},
   "outputs": [
    {
     "name": "stdout",
     "output_type": "stream",
     "text": [
      "6 is a not prime number\n"
     ]
    }
   ],
   "source": [
    "# 4) finding out if a number is prime or not\n",
    "import math\n",
    "\n",
    "num = int(input(\"Give me a natural number\"))\n",
    "while num < 1:\n",
    "    print(\"This is not a natural number\")\n",
    "    num = int(input(\"Give me a natural number\"))\n",
    "if num == 1:\n",
    "    print(\"One is not a prime number\")\n",
    "flag = False\n",
    "for i in range(2, math.ceil(math.sqrt(num))):\n",
    "    if num % i == 0:\n",
    "        flag = True\n",
    "\n",
    "if not flag:\n",
    "    print(num, \"is a prime number\")\n",
    "else:\n",
    "    print(num, \"is a not prime number\")"
   ]
  },
  {
   "cell_type": "code",
   "execution_count": 25,
   "metadata": {},
   "outputs": [
    {
     "name": "stdout",
     "output_type": "stream",
     "text": [
      "The matrices are\n",
      "a =  [[ 1.95039685 -0.71830399]\n",
      " [ 1.01697071  0.15011751]]\n",
      "[[ 1.95039685 -0.71830399]\n",
      " [ 1.01697071  0.15011751]]\n",
      "b =  [[ 2.11456562 -0.36291659]\n",
      " [ 0.92731299  0.19149319]]\n",
      "[[ 2.11456562 -0.36291659]\n",
      " [ 0.92731299  0.19149319]]\n",
      "\n",
      "Their sum\n",
      "[[ 4.06496247 -1.08122057]\n",
      " [ 1.9442837   0.3416107 ]]\n",
      "Is it correct?\n",
      "[[ True  True]\n",
      " [ True  True]]\n"
     ]
    }
   ],
   "source": [
    "# 5) matrix addition\n",
    "import numpy as np\n",
    "\n",
    "a = np.random.randn(2, 2)\n",
    "b = np.random.randn(2, 2)\n",
    "c = []\n",
    "print(\"The matrices are\")\n",
    "print(\"a = \", a)\n",
    "print(a)\n",
    "print(\"b = \", b)\n",
    "print(b)\n",
    "for i in range(2):\n",
    "    l = []\n",
    "    for j in range(2):\n",
    "        l.append(a[i][j] + b[i][j])\n",
    "    c.append(l)\n",
    "c = np.array(c)\n",
    "print(\"\\nTheir sum\")\n",
    "print(c)\n",
    "print(\"Is it correct?\")\n",
    "print(a + b == c)\n",
    "assert np.array_equal(a + b, c)"
   ]
  },
  {
   "cell_type": "code",
   "execution_count": 6,
   "metadata": {},
   "outputs": [
    {
     "name": "stdout",
     "output_type": "stream",
     "text": [
      "We have found the number at index 4\n"
     ]
    }
   ],
   "source": [
    "# 6) linear search \n",
    "numbers = list(map(int, input(\"Give me a list of numbers: \").split(' ')))\n",
    "num = int(input(\"Give me a number: \"))\n",
    "\n",
    "index = -1\n",
    "for i, a in enumerate(numbers):\n",
    "    if a == num:\n",
    "        index = i\n",
    "        break\n",
    "\n",
    "if index != -1:\n",
    "    print(f\"We have found the number at index {index}\")\n",
    "else:\n",
    "    print(\"We have not found the number in the list\")"
   ]
  },
  {
   "cell_type": "code",
   "execution_count": null,
   "metadata": {},
   "outputs": [
    {
     "name": "stdout",
     "output_type": "stream",
     "text": [
      "The GCD of the two numbers 100 and 10 is 10\n"
     ]
    }
   ],
   "source": [
    "# 7) gcd of two numbers\n",
    "def gcd(x, y):\n",
    "    while(y):\n",
    "       x, y = y, x % y\n",
    "    return abs(x)\n",
    "\n",
    "a = int(input(\"Give me a number\"))\n",
    "b = int(input(\"Give me another number\"))\n",
    "print(\"The GCD of the two numbers\", a, \"and\", b, \"is\", gcd(a, b))"
   ]
  },
  {
   "cell_type": "code",
   "execution_count": 34,
   "metadata": {},
   "outputs": [
    {
     "name": "stdout",
     "output_type": "stream",
     "text": [
      "a = \n",
      "[[-0.06618365 -0.93038158  0.02447197]\n",
      " [-0.5685271   0.66336282 -1.8587918 ]\n",
      " [ 0.5140374  -0.13337381 -0.99932588]]\n",
      "\n",
      "It's transpose is\n",
      "[[-0.06618365 -0.5685271   0.5140374 ]\n",
      " [-0.93038158  0.66336282 -0.13337381]\n",
      " [ 0.02447197 -1.8587918  -0.99932588]]\n",
      "\n",
      "Is it correct?\n",
      "[[ True  True  True]\n",
      " [ True  True  True]\n",
      " [ True  True  True]]\n"
     ]
    }
   ],
   "source": [
    "# 8) transpose of a matrix\n",
    "import numpy as np\n",
    "a = np.random.randn(3, 3)\n",
    "a_t = [[0, 0, 0], [0, 0, 0], [0, 0, 0]]\n",
    "for i in range(3):\n",
    "    for j in range(3):\n",
    "        a_t[j][i] = a[i][j]\n",
    "a_t = np.array(a_t)\n",
    "print(\"a = \")\n",
    "print(a, end=\"\\n\\n\")\n",
    "print(\"It's transpose is\")\n",
    "print(a_t, end=\"\\n\\n\")\n",
    "print(\"Is it correct?\")\n",
    "print(a_t == a.T)\n",
    "assert np.array_equal(a_t, a.T)"
   ]
  }
 ],
 "metadata": {
  "kernelspec": {
   "display_name": ".venv",
   "language": "python",
   "name": "python3"
  },
  "language_info": {
   "codemirror_mode": {
    "name": "ipython",
    "version": 3
   },
   "file_extension": ".py",
   "mimetype": "text/x-python",
   "name": "python",
   "nbconvert_exporter": "python",
   "pygments_lexer": "ipython3",
   "version": "3.10.11"
  }
 },
 "nbformat": 4,
 "nbformat_minor": 2
}
